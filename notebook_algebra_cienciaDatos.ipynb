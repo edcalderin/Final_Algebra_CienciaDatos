{
 "cells": [
  {
   "cell_type": "markdown",
   "metadata": {},
   "source": [
    "# Algebra Lineal aplicada a la Ciencia de Datos"
   ]
  },
  {
   "cell_type": "markdown",
   "metadata": {},
   "source": [
    "## Librerias"
   ]
  },
  {
   "cell_type": "code",
   "execution_count": 5,
   "metadata": {
    "ExecuteTime": {
     "end_time": "2021-01-23T02:55:24.745002Z",
     "start_time": "2021-01-23T02:55:24.450601Z"
    }
   },
   "outputs": [],
   "source": [
    "import numpy as np"
   ]
  },
  {
   "cell_type": "markdown",
   "metadata": {},
   "source": [
    "## Ejercicio 1"
   ]
  },
  {
   "cell_type": "markdown",
   "metadata": {},
   "source": [
    "Utilizar la siguiente tabla que explica las preferencias de restaurantes de Alfonso, Brenda, Carlos y Diana para aplicar PCA tal como lo vimos en clase y explicar los resultados"
   ]
  },
  {
   "cell_type": "markdown",
   "metadata": {},
   "source": [
    "|         | Italiana | Francesa | Mexicana | Japonesa |\n",
    "|---------|----------|----------|----------|----------|\n",
    "| Alfonso |    10    |     1    |     2    |     7    |\n",
    "| Brenda  |     7    |     2    |     1    |    10    |\n",
    "| Carlos  |     2    |     9    |     7    |     3    |\n",
    "| Diana   |     3    |     6    |    10    |     2    |"
   ]
  },
  {
   "cell_type": "code",
   "execution_count": 6,
   "metadata": {
    "ExecuteTime": {
     "end_time": "2021-01-23T02:55:27.448058Z",
     "start_time": "2021-01-23T02:55:27.443043Z"
    }
   },
   "outputs": [],
   "source": [
    "X=np.array([[10,1,2,7],[7,2,1,10],[2,9,7,3],[3,6,10,2]])"
   ]
  },
  {
   "cell_type": "markdown",
   "metadata": {},
   "source": [
    "## Ejercicio 2"
   ]
  },
  {
   "cell_type": "markdown",
   "metadata": {},
   "source": [
    "Calcular el rango de las siguientes matrices asi como una aproximacion de grado 2, 3 y 5 respectivamente."
   ]
  },
  {
   "cell_type": "markdown",
   "metadata": {},
   "source": [
    "\\begin{equation}\n",
    "    \\begin{bmatrix} 4 & 5 \\\\ 7 & 2 \\end{bmatrix}\n",
    "    \\begin{bmatrix} \n",
    "    3 & 3 & 5 & 1 & 5  \\\\ \n",
    "    5 & 4 & 3 & 5 & 1  \\\\ \n",
    "    2 & 7 & 10 & 8 & 9 \\\\ \n",
    "    5 & 3 & 6 & 10 & 8 \\\\ \n",
    "    9 & 5 & 9 & 6 & 10 \\\\\n",
    "    10 & 10 & 8 & 4 & 6\n",
    "    \\end{bmatrix}\n",
    "    \\begin{bmatrix} \n",
    "    5 & 1 & 3 & 9 & 3 & 10 & 3    \\\\ \n",
    "    5 & 4 & 1 & 7 & 8 & 3 & 2     \\\\\n",
    "    3 & 7 & 2 & 1 & 9 & 2 & 8     \\\\\n",
    "    2 & 5 & 3 & 10 & 10 & 1 & 7   \\\\\n",
    "    10 & 3 & 5 & 8 & 7 & 10 & 10  \\\\\n",
    "    9 & 2 & 10 & 3 & 8 & 3 & 4    \\\\\n",
    "    5 & 10 & 3 & 7 & 9 & 4 & 9    \\\\\n",
    "    8 & 7 & 4 & 6 & 7 & 8 & 9     \\\\\n",
    "    \\end{bmatrix}\n",
    "\\end{equation}\n"
   ]
  },
  {
   "cell_type": "code",
   "execution_count": null,
   "metadata": {},
   "outputs": [],
   "source": []
  },
  {
   "cell_type": "markdown",
   "metadata": {},
   "source": [
    "## Ejercicio 3"
   ]
  },
  {
   "cell_type": "markdown",
   "metadata": {
    "ExecuteTime": {
     "end_time": "2021-01-23T01:08:37.861571Z",
     "start_time": "2021-01-23T01:08:37.853593Z"
    }
   },
   "source": [
    "Calcular el algoritmo de PageRank para el siguiente grafo:"
   ]
  },
  {
   "cell_type": "markdown",
   "metadata": {},
   "source": [
    "<img src='captura.JPG' width=30%/>"
   ]
  },
  {
   "cell_type": "code",
   "execution_count": null,
   "metadata": {},
   "outputs": [],
   "source": []
  }
 ],
 "metadata": {
  "kernelspec": {
   "display_name": "Python 3",
   "language": "python",
   "name": "python3"
  },
  "language_info": {
   "codemirror_mode": {
    "name": "ipython",
    "version": 3
   },
   "file_extension": ".py",
   "mimetype": "text/x-python",
   "name": "python",
   "nbconvert_exporter": "python",
   "pygments_lexer": "ipython3",
   "version": "3.7.6"
  },
  "toc": {
   "base_numbering": 1,
   "nav_menu": {},
   "number_sections": true,
   "sideBar": true,
   "skip_h1_title": false,
   "title_cell": "Table of Contents",
   "title_sidebar": "Contents",
   "toc_cell": false,
   "toc_position": {},
   "toc_section_display": true,
   "toc_window_display": true
  }
 },
 "nbformat": 4,
 "nbformat_minor": 4
}
