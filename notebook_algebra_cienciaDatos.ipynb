{
 "cells": [
  {
   "cell_type": "markdown",
   "metadata": {},
   "source": [
    "# Algebra Lineal aplicada a la Ciencia de Datos"
   ]
  },
  {
   "cell_type": "markdown",
   "metadata": {},
   "source": [
    "## Librerias"
   ]
  },
  {
   "cell_type": "code",
   "execution_count": 30,
   "metadata": {
    "ExecuteTime": {
     "end_time": "2021-02-15T00:31:55.025880Z",
     "start_time": "2021-02-15T00:31:55.020879Z"
    }
   },
   "outputs": [],
   "source": [
    "import random\n",
    "import numpy as np\n",
    "import matplotlib.pyplot as plt\n",
    "import pandas as pd\n",
    "from sklearn.decomposition import PCA\n",
    "from scipy.sparse.linalg import svds\n",
    "from scipy.linalg import sqrtm\n",
    "import networkx as nx"
   ]
  },
  {
   "cell_type": "markdown",
   "metadata": {},
   "source": [
    "## Ejercicio 1"
   ]
  },
  {
   "cell_type": "markdown",
   "metadata": {},
   "source": [
    "Utilizar la siguiente tabla que explica las preferencias de restaurantes de Alfonso, Brenda, Carlos y Diana para aplicar PCA tal como lo vimos en clase y explicar los resultados"
   ]
  },
  {
   "cell_type": "markdown",
   "metadata": {},
   "source": [
    "|         | Italiana | Francesa | Mexicana | Japonesa |\n",
    "|---------|----------|----------|----------|----------|\n",
    "| Alfonso |    10    |     1    |     2    |     7    |\n",
    "| Brenda  |     7    |     2    |     1    |    10    |\n",
    "| Carlos  |     2    |     9    |     7    |     3    |\n",
    "| Diana   |     3    |     6    |    10    |     2    |"
   ]
  },
  {
   "cell_type": "code",
   "execution_count": 2,
   "metadata": {
    "ExecuteTime": {
     "end_time": "2021-02-14T21:46:21.316447Z",
     "start_time": "2021-02-14T21:46:21.309876Z"
    }
   },
   "outputs": [],
   "source": [
    "X = np.array([\n",
    "    [10, 1, 2,  7],\n",
    "    [7,  2, 1, 10],\n",
    "    [2,  9, 7,  3],\n",
    "    [3,  6, 10, 2]\n",
    "])"
   ]
  },
  {
   "cell_type": "code",
   "execution_count": 3,
   "metadata": {
    "ExecuteTime": {
     "end_time": "2021-02-14T21:46:21.343167Z",
     "start_time": "2021-02-14T21:46:21.316612Z"
    }
   },
   "outputs": [
    {
     "data": {
      "text/plain": [
       "array([[ 10.9375,   8.5625, -10.3125,  -9.1875],\n",
       "       [  8.5625,  11.1875,  -8.9375, -10.8125],\n",
       "       [-10.3125,  -8.9375,  10.6875,   8.5625],\n",
       "       [ -9.1875, -10.8125,   8.5625,  11.4375]])"
      ]
     },
     "execution_count": 3,
     "metadata": {},
     "output_type": "execute_result"
    }
   ],
   "source": [
    "standarized = X - np.mean(X, axis=0)\n",
    "cov = standarized @ standarized.T/X.shape[0]\n",
    "cov"
   ]
  },
  {
   "cell_type": "code",
   "execution_count": 4,
   "metadata": {
    "ExecuteTime": {
     "end_time": "2021-02-14T21:46:21.355165Z",
     "start_time": "2021-02-14T21:46:21.347161Z"
    }
   },
   "outputs": [],
   "source": [
    "eig_val, eig_vec = np.linalg.eig(cov)"
   ]
  },
  {
   "cell_type": "code",
   "execution_count": 5,
   "metadata": {
    "ExecuteTime": {
     "end_time": "2021-02-14T21:46:21.378166Z",
     "start_time": "2021-02-14T21:46:21.359162Z"
    }
   },
   "outputs": [
    {
     "name": "stdout",
     "output_type": "stream",
     "text": [
      "Eigen valores: [3.92587241e+01 3.99291342e+00 7.98286130e-16 9.98362518e-01]\n",
      "Eigen vectores: [[ 0.49611631  0.50762718  0.5        -0.49616857]\n",
      " [ 0.50376181 -0.49345547  0.5         0.50271835]\n",
      " [-0.48958265 -0.50644341  0.5        -0.50380939]\n",
      " [-0.51029547  0.49227169  0.5         0.4972596 ]]\n"
     ]
    }
   ],
   "source": [
    "print('Eigen valores:', eig_val)\n",
    "print('Eigen vectores:', eig_vec)"
   ]
  },
  {
   "cell_type": "code",
   "execution_count": 6,
   "metadata": {
    "ExecuteTime": {
     "end_time": "2021-02-14T21:46:21.393168Z",
     "start_time": "2021-02-14T21:46:21.381164Z"
    }
   },
   "outputs": [
    {
     "name": "stdout",
     "output_type": "stream",
     "text": [
      "[[ 0.91369133  7.01583139]\n",
      " [-1.11219956  6.98275286]\n",
      " [ 0.56812395 -5.49413361]\n",
      " [-1.40549766 -5.51774196]]\n"
     ]
    }
   ],
   "source": [
    "idx = np.argsort(eig_val)[::-1]\n",
    "eig_val = eig_val[idx]\n",
    "eig_vec = eig_vec[:, idx]\n",
    "pca = np.dot(X, eig_vec[:, range(2)])\n",
    "print(pca)"
   ]
  },
  {
   "cell_type": "markdown",
   "metadata": {},
   "source": [
    "Los componentes obtenidos reflejas los restaurantes con votaciones similares o aquellos que estan correlacionados. Los restaurantes de comida Italiana y Japonesa, y Francesa y Mexicana son ejemplos de restaurantes con una valoracion parecida. "
   ]
  },
  {
   "cell_type": "markdown",
   "metadata": {},
   "source": [
    "## Ejercicio 2"
   ]
  },
  {
   "cell_type": "markdown",
   "metadata": {},
   "source": [
    "Calcular el rango de las siguientes matrices asi como una aproximacion de grado 2, 3 y 5 respectivamente."
   ]
  },
  {
   "cell_type": "markdown",
   "metadata": {},
   "source": [
    "\\begin{equation}\n",
    "    \\begin{bmatrix} 4 & 5 \\\\ 7 & 2 \\end{bmatrix}\n",
    "    \\begin{bmatrix} \n",
    "    3 & 3 & 5 & 1 & 5  \\\\ \n",
    "    5 & 4 & 3 & 5 & 1  \\\\ \n",
    "    2 & 7 & 10 & 8 & 9 \\\\ \n",
    "    5 & 3 & 6 & 10 & 8 \\\\ \n",
    "    9 & 5 & 9 & 6 & 10 \\\\\n",
    "    10 & 10 & 8 & 4 & 6\n",
    "    \\end{bmatrix}\n",
    "    \\begin{bmatrix} \n",
    "    5 & 1 & 3 & 9 & 3 & 10 & 3    \\\\ \n",
    "    5 & 4 & 1 & 7 & 8 & 3 & 2     \\\\\n",
    "    3 & 7 & 2 & 1 & 9 & 2 & 8     \\\\\n",
    "    2 & 5 & 3 & 10 & 10 & 1 & 7   \\\\\n",
    "    10 & 3 & 5 & 8 & 7 & 10 & 10  \\\\\n",
    "    9 & 2 & 10 & 3 & 8 & 3 & 4    \\\\\n",
    "    5 & 10 & 3 & 7 & 9 & 4 & 9    \\\\\n",
    "    8 & 7 & 4 & 6 & 7 & 8 & 9     \\\\\n",
    "    \\end{bmatrix}\n",
    "\\end{equation}\n"
   ]
  },
  {
   "cell_type": "code",
   "execution_count": 7,
   "metadata": {
    "ExecuteTime": {
     "end_time": "2021-02-14T21:46:21.404162Z",
     "start_time": "2021-02-14T21:46:21.396161Z"
    }
   },
   "outputs": [],
   "source": [
    "def get_range(X):\n",
    "    U, D, V = np.linalg.svd(X)\n",
    "    # No funciona con los filtros np.nonzero() y D>0. Validar con 1*e-10\n",
    "    non_zero = D[D>1e-10]\n",
    "    return len(non_zero)"
   ]
  },
  {
   "cell_type": "markdown",
   "metadata": {},
   "source": [
    "### Primera matriz:"
   ]
  },
  {
   "cell_type": "code",
   "execution_count": 8,
   "metadata": {
    "ExecuteTime": {
     "end_time": "2021-02-14T21:46:21.419179Z",
     "start_time": "2021-02-14T21:46:21.407163Z"
    }
   },
   "outputs": [],
   "source": [
    "A = np.array([[4, 5], [7, 2]])"
   ]
  },
  {
   "cell_type": "code",
   "execution_count": 9,
   "metadata": {
    "ExecuteTime": {
     "end_time": "2021-02-14T21:46:21.432163Z",
     "start_time": "2021-02-14T21:46:21.422164Z"
    }
   },
   "outputs": [
    {
     "name": "stdout",
     "output_type": "stream",
     "text": [
      "El rango de A es 2\n"
     ]
    }
   ],
   "source": [
    "print('El rango de A es', get_range(A))"
   ]
  },
  {
   "cell_type": "markdown",
   "metadata": {
    "ExecuteTime": {
     "end_time": "2021-02-14T01:21:16.614484Z",
     "start_time": "2021-02-14T01:21:16.610515Z"
    }
   },
   "source": [
    "### Segunda matriz:"
   ]
  },
  {
   "cell_type": "code",
   "execution_count": 10,
   "metadata": {
    "ExecuteTime": {
     "end_time": "2021-02-14T21:46:21.446190Z",
     "start_time": "2021-02-14T21:46:21.434165Z"
    }
   },
   "outputs": [],
   "source": [
    "B = np.array([[3, 3, 5, 1, 5], \n",
    "              [5, 4, 3, 5, 1],\n",
    "              [2, 7, 10, 8, 9],\n",
    "              [5, 3, 6, 10, 8],\n",
    "              [9, 5, 9, 6, 10],\n",
    "              [10, 10, 8, 4, 6]\n",
    "             ])"
   ]
  },
  {
   "cell_type": "code",
   "execution_count": 11,
   "metadata": {
    "ExecuteTime": {
     "end_time": "2021-02-14T21:46:21.462191Z",
     "start_time": "2021-02-14T21:46:21.449197Z"
    }
   },
   "outputs": [
    {
     "name": "stdout",
     "output_type": "stream",
     "text": [
      "El rango de B es 5\n"
     ]
    }
   ],
   "source": [
    "print('El rango de B es', get_range(B))"
   ]
  },
  {
   "cell_type": "code",
   "execution_count": 12,
   "metadata": {
    "ExecuteTime": {
     "end_time": "2021-02-14T21:46:21.474160Z",
     "start_time": "2021-02-14T21:46:21.465171Z"
    }
   },
   "outputs": [],
   "source": [
    "U_k, sigmas_k, Vt_k = svds(B.astype(float), k=3)\n",
    "D_k = np.diag(sigmas_k)"
   ]
  },
  {
   "cell_type": "code",
   "execution_count": 13,
   "metadata": {
    "ExecuteTime": {
     "end_time": "2021-02-14T21:46:21.488163Z",
     "start_time": "2021-02-14T21:46:21.476166Z"
    }
   },
   "outputs": [
    {
     "data": {
      "text/plain": [
       "(3, 5)"
      ]
     },
     "execution_count": 13,
     "metadata": {},
     "output_type": "execute_result"
    }
   ],
   "source": [
    "B_aprox =  np.matmul(sqrtm(D_k), Vt_k) \n",
    "B_aprox.shape"
   ]
  },
  {
   "cell_type": "code",
   "execution_count": 14,
   "metadata": {
    "ExecuteTime": {
     "end_time": "2021-02-14T21:46:21.504194Z",
     "start_time": "2021-02-14T21:46:21.490163Z"
    }
   },
   "outputs": [
    {
     "data": {
      "text/plain": [
       "array([[ 1.11640152, -0.5004949 , -1.01097103,  1.5684416 , -0.8176254 ],\n",
       "       [ 1.83893873,  1.21342841, -0.20530918, -1.56618303, -0.98238838],\n",
       "       [-2.43412972, -2.31003739, -2.98846898, -2.44005639, -2.89513336]])"
      ]
     },
     "execution_count": 14,
     "metadata": {},
     "output_type": "execute_result"
    }
   ],
   "source": [
    "B_aprox"
   ]
  },
  {
   "cell_type": "markdown",
   "metadata": {},
   "source": [
    "### Tercera matriz:"
   ]
  },
  {
   "cell_type": "code",
   "execution_count": 15,
   "metadata": {
    "ExecuteTime": {
     "end_time": "2021-02-14T21:46:21.527158Z",
     "start_time": "2021-02-14T21:46:21.506162Z"
    }
   },
   "outputs": [],
   "source": [
    "C = np.array([\n",
    "        [5,  1,  3,  9,  3,  10, 3 ],\n",
    "        [5,  4,  1,  7,  8,  3,  2 ],\n",
    "        [3,  7,  2,  1,  9,  2,  8 ],\n",
    "        [2,  5,  3,  10, 10, 1,  7 ],\n",
    "        [10, 3,  5,  8,  7,  10, 10],\n",
    "        [9,  2,  10, 3,  8,  3,  4 ],\n",
    "        [5,  10, 3,  7,  9,  4,  9 ],\n",
    "        [8,  7,  4,  6,  7,  8,  9 ]\n",
    "])"
   ]
  },
  {
   "cell_type": "code",
   "execution_count": 16,
   "metadata": {
    "ExecuteTime": {
     "end_time": "2021-02-14T21:46:21.540178Z",
     "start_time": "2021-02-14T21:46:21.529160Z"
    }
   },
   "outputs": [
    {
     "name": "stdout",
     "output_type": "stream",
     "text": [
      "El rango de C es 7\n"
     ]
    }
   ],
   "source": [
    "print('El rango de C es', get_range(C))"
   ]
  },
  {
   "cell_type": "code",
   "execution_count": 17,
   "metadata": {
    "ExecuteTime": {
     "end_time": "2021-02-14T21:46:21.554161Z",
     "start_time": "2021-02-14T21:46:21.543167Z"
    }
   },
   "outputs": [],
   "source": [
    "U_k, sigmas_k, Vt_k = svds(C.astype(float), k=5)\n",
    "D_k = np.diag(sigmas_k)"
   ]
  },
  {
   "cell_type": "code",
   "execution_count": 18,
   "metadata": {
    "ExecuteTime": {
     "end_time": "2021-02-14T21:46:21.569161Z",
     "start_time": "2021-02-14T21:46:21.556181Z"
    }
   },
   "outputs": [
    {
     "data": {
      "text/plain": [
       "(5, 7)"
      ]
     },
     "execution_count": 18,
     "metadata": {},
     "output_type": "execute_result"
    }
   ],
   "source": [
    "C_aprox =  np.matmul(sqrtm(D_k), Vt_k) \n",
    "C_aprox.shape"
   ]
  },
  {
   "cell_type": "code",
   "execution_count": 19,
   "metadata": {
    "ExecuteTime": {
     "end_time": "2021-02-14T21:46:21.582164Z",
     "start_time": "2021-02-14T21:46:21.571162Z"
    }
   },
   "outputs": [
    {
     "data": {
      "text/plain": [
       "array([[ 0.75564885,  0.94258412, -0.58521029, -0.31091255,  0.34236264,\n",
       "         0.35611411, -1.38333539],\n",
       "       [ 0.10297746,  0.90731407, -0.85246082, -1.47067309, -1.04699079,\n",
       "         1.12485339,  1.39610383],\n",
       "       [-1.24217272,  0.30602243, -1.86085653,  1.99194943, -0.40744192,\n",
       "         0.73426722, -0.04231378],\n",
       "       [-1.26211105,  1.78859778, -0.67141623, -0.5769346 ,  1.4956339 ,\n",
       "        -2.14321559,  0.76142552],\n",
       "       [ 2.56020617,  2.10297879,  1.65974403,  2.70814772,  3.18903329,\n",
       "         2.25028451,  2.88919002]])"
      ]
     },
     "execution_count": 19,
     "metadata": {},
     "output_type": "execute_result"
    }
   ],
   "source": [
    "C_aprox"
   ]
  },
  {
   "cell_type": "markdown",
   "metadata": {},
   "source": [
    "## Ejercicio 3"
   ]
  },
  {
   "cell_type": "markdown",
   "metadata": {
    "ExecuteTime": {
     "end_time": "2021-01-23T01:08:37.861571Z",
     "start_time": "2021-01-23T01:08:37.853593Z"
    }
   },
   "source": [
    "Calcular el algoritmo de PageRank para el siguiente grafo:"
   ]
  },
  {
   "cell_type": "markdown",
   "metadata": {},
   "source": [
    "<img src='graph.jpg' width=30%/>"
   ]
  },
  {
   "cell_type": "markdown",
   "metadata": {},
   "source": [
    "Creando conexiones estáticas:"
   ]
  },
  {
   "cell_type": "code",
   "execution_count": 20,
   "metadata": {
    "ExecuteTime": {
     "end_time": "2021-02-14T21:46:21.595179Z",
     "start_time": "2021-02-14T21:46:21.585165Z"
    }
   },
   "outputs": [],
   "source": [
    "EDGE_DATA = [(0,1), (0,2), (0,3), (0,4),\n",
    "             (1,0), (1,2),\n",
    "             (2,0), (2,3),\n",
    "             (3,0), (3,1),\n",
    "             (4,5), (4,7),\n",
    "             (5,0), (5,6),\n",
    "             (6,4),\n",
    "             (7,6), (7,8),\n",
    "             (8,4), (8,9), (8,10),(8,11),\n",
    "             (9,8), (9,10),\n",
    "             (10,8), (10,11),\n",
    "             (11,9), (11,8)\n",
    "            ]"
   ]
  },
  {
   "cell_type": "markdown",
   "metadata": {},
   "source": [
    "Instanciando objeto Networkx:"
   ]
  },
  {
   "cell_type": "code",
   "execution_count": 21,
   "metadata": {
    "ExecuteTime": {
     "end_time": "2021-02-14T21:46:21.609160Z",
     "start_time": "2021-02-14T21:46:21.598164Z"
    }
   },
   "outputs": [],
   "source": [
    "g = nx.DiGraph() \n",
    "\n",
    "N = 12\n",
    "g.add_nodes_from(range(N)) \n",
    "g.add_edges_from(EDGE_DATA)"
   ]
  },
  {
   "cell_type": "markdown",
   "metadata": {},
   "source": [
    "Dibujando:"
   ]
  },
  {
   "cell_type": "code",
   "execution_count": 22,
   "metadata": {
    "ExecuteTime": {
     "end_time": "2021-02-14T21:46:21.955353Z",
     "start_time": "2021-02-14T21:46:21.612179Z"
    }
   },
   "outputs": [
    {
     "data": {
      "image/png": "[encoded data removed]",
      "text/plain": [
       "<Figure size 360x360 with 1 Axes>"
      ]
     },
     "metadata": {},
     "output_type": "display_data"
    }
   ],
   "source": [
    "plt.figure(figsize=(5,5))\n",
    "\n",
    "params={\n",
    "    'with_labels': True, \n",
    "    'node_size': 1000, \n",
    "    'font_color': 'white',\n",
    "    'font_size': 15, \n",
    "    'font_weight': 'bold', \n",
    "    'node_color': 'brown'\n",
    "}\n",
    "nx.draw_circular(g, **params)"
   ]
  },
  {
   "cell_type": "code",
   "execution_count": 23,
   "metadata": {
    "ExecuteTime": {
     "end_time": "2021-02-14T21:46:21.964378Z",
     "start_time": "2021-02-14T21:46:21.958380Z"
    }
   },
   "outputs": [
    {
     "name": "stdout",
     "output_type": "stream",
     "text": [
      "Nodos: [0, 1, 2, 3, 4, 5, 6, 7, 8, 9, 10, 11]\n",
      "Número de Nodos: 12\n",
      "Total de Vertices: 27\n"
     ]
    }
   ],
   "source": [
    "print('Nodos:', g.nodes())\n",
    "print('Número de Nodos:', g.number_of_nodes())\n",
    "print('Total de Vertices:',g.number_of_edges())"
   ]
  },
  {
   "cell_type": "code",
   "execution_count": 24,
   "metadata": {
    "ExecuteTime": {
     "end_time": "2021-02-14T21:46:21.978351Z",
     "start_time": "2021-02-14T21:46:21.966368Z"
    }
   },
   "outputs": [
    {
     "data": {
      "text/plain": [
       "OutEdgeView([(0, 1), (0, 2), (0, 3), (0, 4), (1, 0), (1, 2), (2, 0), (2, 3), (3, 0), (3, 1), (4, 5), (4, 7), (5, 0), (5, 6), (6, 4), (7, 6), (7, 8), (8, 4), (8, 9), (8, 10), (8, 11), (9, 8), (9, 10), (10, 8), (10, 11), (11, 9), (11, 8)])"
      ]
     },
     "execution_count": 24,
     "metadata": {},
     "output_type": "execute_result"
    }
   ],
   "source": [
    "g.out_edges()"
   ]
  },
  {
   "cell_type": "markdown",
   "metadata": {},
   "source": [
    "### Page Rank, utilizando caminata aleatoria"
   ]
  },
  {
   "cell_type": "code",
   "execution_count": 31,
   "metadata": {
    "ExecuteTime": {
     "end_time": "2021-02-15T00:32:02.325881Z",
     "start_time": "2021-02-15T00:32:02.316882Z"
    }
   },
   "outputs": [],
   "source": [
    "def PageRank_caminata_aleatoria(g, n_iter):\n",
    "    #inicialiaemos en 0 los cuenta para cada nodo\n",
    "    cuenta = [0]*g.number_of_nodes()\n",
    "    nodos = list(g.nodes()) \n",
    "\n",
    "    #escogemos un nodo aleatoriamente, probabilidad uniforme\n",
    "    n = random.choice(nodos)\n",
    "    cuenta[n] += 1\n",
    "\n",
    "    #lista de vecinos a donde ir, probabilidad uniforme\n",
    "    vecinos = list(g.out_edges(n))    \n",
    "    #iterar n_iter veces\n",
    "    z = 1\n",
    "    while (z != n_iter): \n",
    "        #Si no hay vecinos escogemos cualquier vecino al azar\n",
    "        if (len(vecinos) == 0):        \n",
    "            siguiente = random.choice(nodos) \n",
    "        else:\n",
    "            n1 = random.choice(vecinos) \n",
    "            siguiente = n1[1] \n",
    "        cuenta[siguiente] += 1\n",
    "        vecinos = list(g.out_edges(siguiente)) \n",
    "        z += 1\n",
    "\n",
    "    #Obtenemos los pesos de cada nodo\n",
    "    pesos = np.array(cuenta) / n_iter   #vector r\n",
    "\n",
    "    #Guardamos los resultados en una tabla ordenada por pesos\n",
    "    rank = pd.DataFrame({'Nodo':nodos, 'Pesos':pesos}).sort_values('Pesos', ascending=False)\n",
    "    rank.index = range(1, g.number_of_nodes() + 1)\n",
    "    return pesos, rank"
   ]
  },
  {
   "cell_type": "markdown",
   "metadata": {},
   "source": [
    "* Iteraciones:"
   ]
  },
  {
   "cell_type": "code",
   "execution_count": 44,
   "metadata": {
    "ExecuteTime": {
     "end_time": "2021-02-15T00:41:26.751421Z",
     "start_time": "2021-02-15T00:41:24.837392Z"
    }
   },
   "outputs": [
    {
     "name": "stdout",
     "output_type": "stream",
     "text": [
      "2 iterations\n",
      "\n",
      "[0.  0.  0.  0.  0.  0.  0.  0.5 0.5 0.  0.  0. ] \n",
      "\n",
      "----------------------\n",
      "\n",
      "25001 iterations\n",
      "\n",
      "[0.12387504 0.06019759 0.06151754 0.0600776  0.13523459 0.06575737\n",
      " 0.06831727 0.06947722 0.14227431 0.07059718 0.07143714 0.07123715] \n",
      "\n",
      "----------------------\n",
      "\n",
      "50001 iterations\n",
      "\n",
      "[0.13535729 0.06853863 0.06855863 0.06903862 0.13283734 0.06605868\n",
      " 0.06597868 0.06679866 0.13327733 0.06567869 0.06425871 0.06361873] \n",
      "\n",
      "----------------------\n",
      "\n",
      "75000 iterations\n",
      "\n",
      "[0.13029333 0.06372    0.06404    0.06468    0.13526667 0.06652\n",
      " 0.06744    0.06874667 0.13694667 0.06706667 0.06736    0.06792   ] \n",
      "\n",
      "----------------------\n",
      "\n",
      "100000 iterations\n",
      "\n",
      "[0.13395 0.06545 0.06785 0.06733 0.13159 0.06629 0.06557 0.0653  0.13411\n",
      " 0.06778 0.06724 0.06754] \n",
      "\n",
      "----------------------\n",
      "\n"
     ]
    }
   ],
   "source": [
    "iterations = np.linspace(2, 100000, 5, dtype=int)\n",
    "for i in iterations:\n",
    "    vec_r, pagerank, = PageRank_caminata_aleatoria(g, n_iter = i) \n",
    "    print(f'{i} iterations\\n')\n",
    "    print(vec_r,'\\n')\n",
    "    print('----------------------\\n')"
   ]
  },
  {
   "cell_type": "markdown",
   "metadata": {},
   "source": [
    "### Utilizando función pagerank de la biblioteca networkx"
   ]
  },
  {
   "cell_type": "code",
   "execution_count": 59,
   "metadata": {
    "ExecuteTime": {
     "end_time": "2021-02-14T21:41:00.271126Z",
     "start_time": "2021-02-14T21:41:00.261101Z"
    }
   },
   "outputs": [
    {
     "name": "stdout",
     "output_type": "stream",
     "text": [
      "PageRank using inbuilt pagerank method\n",
      "0, 8, 4, 1, 2, 3, 9, 10, 11, 6, 5, 7, "
     ]
    }
   ],
   "source": [
    "pesos_dict = nx.pagerank(g) \n",
    "p_ordenado = sorted(pesos_dict.items(), key=lambda x: x[1], reverse=True) \n",
    "  \n",
    "print(\"PageRank using inbuilt pagerank method\") \n",
    "for i in p_ordenado:  \n",
    "    print(i[0], end=\", \") "
   ]
  }
 ],
 "metadata": {
  "kernelspec": {
   "display_name": "Python 3",
   "language": "python",
   "name": "python3"
  },
  "language_info": {
   "codemirror_mode": {
    "name": "ipython",
    "version": 3
   },
   "file_extension": ".py",
   "mimetype": "text/x-python",
   "name": "python",
   "nbconvert_exporter": "python",
   "pygments_lexer": "ipython3",
   "version": "3.7.6"
  },
  "toc": {
   "base_numbering": 1,
   "nav_menu": {},
   "number_sections": true,
   "sideBar": true,
   "skip_h1_title": false,
   "title_cell": "Table of Contents",
   "title_sidebar": "Contents",
   "toc_cell": false,
   "toc_position": {
    "height": "calc(100% - 180px)",
    "left": "10px",
    "top": "150px",
    "width": "287.2px"
   },
   "toc_section_display": true,
   "toc_window_display": true
  }
 },
 "nbformat": 4,
 "nbformat_minor": 4
}
