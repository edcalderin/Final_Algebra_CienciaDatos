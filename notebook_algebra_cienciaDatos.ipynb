{
 "cells": [
  {
   "cell_type": "markdown",
   "metadata": {},
   "source": [
    "# Algebra Lineal aplicada a la Ciencia de Datos"
   ]
  },
  {
   "cell_type": "markdown",
   "metadata": {},
   "source": [
    "## Librerias"
   ]
  },
  {
   "cell_type": "code",
   "execution_count": 31,
   "metadata": {
    "ExecuteTime": {
     "end_time": "2021-02-13T23:22:47.986022Z",
     "start_time": "2021-02-13T23:22:47.981022Z"
    }
   },
   "outputs": [],
   "source": [
    "import numpy as np\n",
    "import matplotlib.pyplot as plt\n",
    "import pandas as pd\n",
    "from sklearn.decomposition import PCA\n",
    "from scipy.sparse.linalg import svds\n",
    "from scipy.linalg import sqrtm"
   ]
  },
  {
   "cell_type": "markdown",
   "metadata": {},
   "source": [
    "## Ejercicio 1"
   ]
  },
  {
   "cell_type": "markdown",
   "metadata": {},
   "source": [
    "Utilizar la siguiente tabla que explica las preferencias de restaurantes de Alfonso, Brenda, Carlos y Diana para aplicar PCA tal como lo vimos en clase y explicar los resultados"
   ]
  },
  {
   "cell_type": "markdown",
   "metadata": {},
   "source": [
    "|         | Italiana | Francesa | Mexicana | Japonesa |\n",
    "|---------|----------|----------|----------|----------|\n",
    "| Alfonso |    10    |     1    |     2    |     7    |\n",
    "| Brenda  |     7    |     2    |     1    |    10    |\n",
    "| Carlos  |     2    |     9    |     7    |     3    |\n",
    "| Diana   |     3    |     6    |    10    |     2    |"
   ]
  },
  {
   "cell_type": "code",
   "execution_count": 2,
   "metadata": {
    "ExecuteTime": {
     "end_time": "2021-02-13T21:46:54.357618Z",
     "start_time": "2021-02-13T21:46:54.352620Z"
    }
   },
   "outputs": [],
   "source": [
    "X = np.array([\n",
    "    [10, 1, 2,  7],\n",
    "    [7,  2, 1, 10],\n",
    "    [2,  9, 7,  3],\n",
    "    [3,  6, 10, 2]\n",
    "])"
   ]
  },
  {
   "cell_type": "code",
   "execution_count": 3,
   "metadata": {
    "ExecuteTime": {
     "end_time": "2021-02-13T21:46:54.404653Z",
     "start_time": "2021-02-13T21:46:54.360618Z"
    }
   },
   "outputs": [
    {
     "data": {
      "text/plain": [
       "array([[ 10.9375,   8.5625, -10.3125,  -9.1875],\n",
       "       [  8.5625,  11.1875,  -8.9375, -10.8125],\n",
       "       [-10.3125,  -8.9375,  10.6875,   8.5625],\n",
       "       [ -9.1875, -10.8125,   8.5625,  11.4375]])"
      ]
     },
     "execution_count": 3,
     "metadata": {},
     "output_type": "execute_result"
    }
   ],
   "source": [
    "standarized = X - np.mean(X, axis=0)\n",
    "cov = standarized @ standarized.T/X.shape[0]\n",
    "cov"
   ]
  },
  {
   "cell_type": "code",
   "execution_count": 4,
   "metadata": {
    "ExecuteTime": {
     "end_time": "2021-02-13T21:46:54.435621Z",
     "start_time": "2021-02-13T21:46:54.407621Z"
    }
   },
   "outputs": [],
   "source": [
    "eig_val, eig_vec = np.linalg.eig(cov)"
   ]
  },
  {
   "cell_type": "code",
   "execution_count": 5,
   "metadata": {
    "ExecuteTime": {
     "end_time": "2021-02-13T21:46:54.456621Z",
     "start_time": "2021-02-13T21:46:54.438618Z"
    }
   },
   "outputs": [
    {
     "name": "stdout",
     "output_type": "stream",
     "text": [
      "Eigen valores: [3.92587241e+01 3.99291342e+00 7.98286130e-16 9.98362518e-01]\n",
      "Eigen vectores: [[ 0.49611631  0.50762718  0.5        -0.49616857]\n",
      " [ 0.50376181 -0.49345547  0.5         0.50271835]\n",
      " [-0.48958265 -0.50644341  0.5        -0.50380939]\n",
      " [-0.51029547  0.49227169  0.5         0.4972596 ]]\n"
     ]
    }
   ],
   "source": [
    "print('Eigen valores:', eig_val)\n",
    "print('Eigen vectores:', eig_vec)"
   ]
  },
  {
   "cell_type": "code",
   "execution_count": 6,
   "metadata": {
    "ExecuteTime": {
     "end_time": "2021-02-13T21:46:54.472653Z",
     "start_time": "2021-02-13T21:46:54.458624Z"
    }
   },
   "outputs": [
    {
     "name": "stdout",
     "output_type": "stream",
     "text": [
      "[[ 0.91369133  7.01583139]\n",
      " [-1.11219956  6.98275286]\n",
      " [ 0.56812395 -5.49413361]\n",
      " [-1.40549766 -5.51774196]]\n"
     ]
    }
   ],
   "source": [
    "idx = np.argsort(eig_val)[::-1]\n",
    "eig_val = eig_val[idx]\n",
    "eig_vec = eig_vec[:, idx]\n",
    "pca = np.dot(X, eig_vec[:, range(2)])\n",
    "print(pca)"
   ]
  },
  {
   "cell_type": "markdown",
   "metadata": {},
   "source": [
    "Los componentes obtenidos reflejas los restaurantes con votaciones similares o aquellos que estan correlacionados. Los restaurantes de comida Italiana y Japonesa, y Francesa y Mexicana son ejemplos de restaurantes con una valoracion parecida. "
   ]
  },
  {
   "cell_type": "markdown",
   "metadata": {},
   "source": [
    "## Ejercicio 2"
   ]
  },
  {
   "cell_type": "markdown",
   "metadata": {},
   "source": [
    "Calcular el rango de las siguientes matrices asi como una aproximacion de grado 2, 3 y 5 respectivamente."
   ]
  },
  {
   "cell_type": "markdown",
   "metadata": {},
   "source": [
    "\\begin{equation}\n",
    "    \\begin{bmatrix} 4 & 5 \\\\ 7 & 2 \\end{bmatrix}\n",
    "    \\begin{bmatrix} \n",
    "    3 & 3 & 5 & 1 & 5  \\\\ \n",
    "    5 & 4 & 3 & 5 & 1  \\\\ \n",
    "    2 & 7 & 10 & 8 & 9 \\\\ \n",
    "    5 & 3 & 6 & 10 & 8 \\\\ \n",
    "    9 & 5 & 9 & 6 & 10 \\\\\n",
    "    10 & 10 & 8 & 4 & 6\n",
    "    \\end{bmatrix}\n",
    "    \\begin{bmatrix} \n",
    "    5 & 1 & 3 & 9 & 3 & 10 & 3    \\\\ \n",
    "    5 & 4 & 1 & 7 & 8 & 3 & 2     \\\\\n",
    "    3 & 7 & 2 & 1 & 9 & 2 & 8     \\\\\n",
    "    2 & 5 & 3 & 10 & 10 & 1 & 7   \\\\\n",
    "    10 & 3 & 5 & 8 & 7 & 10 & 10  \\\\\n",
    "    9 & 2 & 10 & 3 & 8 & 3 & 4    \\\\\n",
    "    5 & 10 & 3 & 7 & 9 & 4 & 9    \\\\\n",
    "    8 & 7 & 4 & 6 & 7 & 8 & 9     \\\\\n",
    "    \\end{bmatrix}\n",
    "\\end{equation}\n"
   ]
  },
  {
   "cell_type": "code",
   "execution_count": 75,
   "metadata": {
    "ExecuteTime": {
     "end_time": "2021-02-14T00:54:53.215624Z",
     "start_time": "2021-02-14T00:54:53.211624Z"
    }
   },
   "outputs": [],
   "source": [
    "def get_range(X):\n",
    "    U, D, V = np.linalg.svd(X)\n",
    "    # No funciona con los filtros np.nonzero() y D>0. Validar con 1*e-10\n",
    "    non_zero = D[D>1e-10]\n",
    "    return len(non_zero)"
   ]
  },
  {
   "cell_type": "markdown",
   "metadata": {},
   "source": [
    "### Primera matriz:"
   ]
  },
  {
   "cell_type": "code",
   "execution_count": 76,
   "metadata": {
    "ExecuteTime": {
     "end_time": "2021-02-14T00:54:53.681143Z",
     "start_time": "2021-02-14T00:54:53.677142Z"
    }
   },
   "outputs": [],
   "source": [
    "A = np.array([[4, 5], [7, 2]])"
   ]
  },
  {
   "cell_type": "code",
   "execution_count": 77,
   "metadata": {
    "ExecuteTime": {
     "end_time": "2021-02-14T00:54:54.094619Z",
     "start_time": "2021-02-14T00:54:54.090648Z"
    }
   },
   "outputs": [
    {
     "name": "stdout",
     "output_type": "stream",
     "text": [
      "El rango de A es 2\n"
     ]
    }
   ],
   "source": [
    "print('El rango de A es', get_range(A))"
   ]
  },
  {
   "cell_type": "markdown",
   "metadata": {
    "ExecuteTime": {
     "end_time": "2021-02-14T01:21:16.614484Z",
     "start_time": "2021-02-14T01:21:16.610515Z"
    }
   },
   "source": [
    "### Segunda matriz:"
   ]
  },
  {
   "cell_type": "code",
   "execution_count": 54,
   "metadata": {
    "ExecuteTime": {
     "end_time": "2021-02-14T00:47:26.218092Z",
     "start_time": "2021-02-14T00:47:26.213094Z"
    }
   },
   "outputs": [],
   "source": [
    "B = np.array([[3, 3, 5, 1, 5], \n",
    "              [5, 4, 3, 5, 1],\n",
    "              [2, 7, 10, 8, 9],\n",
    "              [5, 3, 6, 10, 8],\n",
    "              [9, 5, 9, 6, 10],\n",
    "              [10, 10, 8, 4, 6]\n",
    "             ])"
   ]
  },
  {
   "cell_type": "code",
   "execution_count": 82,
   "metadata": {
    "ExecuteTime": {
     "end_time": "2021-02-14T01:21:23.694434Z",
     "start_time": "2021-02-14T01:21:23.690466Z"
    }
   },
   "outputs": [
    {
     "name": "stdout",
     "output_type": "stream",
     "text": [
      "El rango de B es 5\n"
     ]
    }
   ],
   "source": [
    "print('El rango de B es', get_range(B))"
   ]
  },
  {
   "cell_type": "code",
   "execution_count": 83,
   "metadata": {
    "ExecuteTime": {
     "end_time": "2021-02-14T01:21:35.397355Z",
     "start_time": "2021-02-14T01:21:35.392356Z"
    }
   },
   "outputs": [],
   "source": [
    "U_k, sigmas_k, Vt_k = svds(B.astype(float), k=3)\n",
    "D_k = np.diag(sigmas_k)"
   ]
  },
  {
   "cell_type": "code",
   "execution_count": 85,
   "metadata": {
    "ExecuteTime": {
     "end_time": "2021-02-14T01:24:17.651424Z",
     "start_time": "2021-02-14T01:24:17.646445Z"
    }
   },
   "outputs": [
    {
     "data": {
      "text/plain": [
       "(3, 5)"
      ]
     },
     "execution_count": 85,
     "metadata": {},
     "output_type": "execute_result"
    }
   ],
   "source": [
    "B_aprox =  np.matmul(sqrtm(D_k), Vt_k) \n",
    "B_aprox.shape"
   ]
  },
  {
   "cell_type": "code",
   "execution_count": 86,
   "metadata": {
    "ExecuteTime": {
     "end_time": "2021-02-14T01:24:22.476035Z",
     "start_time": "2021-02-14T01:24:22.470034Z"
    }
   },
   "outputs": [
    {
     "data": {
      "text/plain": [
       "array([[ 1.11640152, -0.5004949 , -1.01097103,  1.5684416 , -0.8176254 ],\n",
       "       [-1.83893873, -1.21342841,  0.20530918,  1.56618303,  0.98238838],\n",
       "       [-2.43412972, -2.31003739, -2.98846898, -2.44005639, -2.89513336]])"
      ]
     },
     "execution_count": 86,
     "metadata": {},
     "output_type": "execute_result"
    }
   ],
   "source": [
    "B_aprox"
   ]
  },
  {
   "cell_type": "markdown",
   "metadata": {},
   "source": [
    "### Tercera matriz:"
   ]
  },
  {
   "cell_type": "code",
   "execution_count": 91,
   "metadata": {
    "ExecuteTime": {
     "end_time": "2021-02-14T01:25:20.430862Z",
     "start_time": "2021-02-14T01:25:20.425861Z"
    }
   },
   "outputs": [],
   "source": [
    "C = np.array([\n",
    "        [5,  1,  3,  9,  3,  10, 3 ],\n",
    "        [5,  4,  1,  7,  8,  3,  2 ],\n",
    "        [3,  7,  2,  1,  9,  2,  8 ],\n",
    "        [2,  5,  3,  10, 10, 1,  7 ],\n",
    "        [10, 3,  5,  8,  7,  10, 10],\n",
    "        [9,  2,  10, 3,  8,  3,  4 ],\n",
    "        [5,  10, 3,  7,  9,  4,  9 ],\n",
    "        [8,  7,  4,  6,  7,  8,  9 ]\n",
    "])"
   ]
  },
  {
   "cell_type": "code",
   "execution_count": 92,
   "metadata": {
    "ExecuteTime": {
     "end_time": "2021-02-14T01:25:20.672788Z",
     "start_time": "2021-02-14T01:25:20.666792Z"
    }
   },
   "outputs": [
    {
     "name": "stdout",
     "output_type": "stream",
     "text": [
      "El rango de C es 7\n"
     ]
    }
   ],
   "source": [
    "print('El rango de C es', get_range(C))"
   ]
  },
  {
   "cell_type": "code",
   "execution_count": 93,
   "metadata": {
    "ExecuteTime": {
     "end_time": "2021-02-14T01:25:21.200680Z",
     "start_time": "2021-02-14T01:25:21.194682Z"
    }
   },
   "outputs": [],
   "source": [
    "U_k, sigmas_k, Vt_k = svds(C.astype(float), k=5)\n",
    "D_k = np.diag(sigmas_k)"
   ]
  },
  {
   "cell_type": "code",
   "execution_count": 94,
   "metadata": {
    "ExecuteTime": {
     "end_time": "2021-02-14T01:25:24.038671Z",
     "start_time": "2021-02-14T01:25:24.032674Z"
    }
   },
   "outputs": [
    {
     "data": {
      "text/plain": [
       "(5, 7)"
      ]
     },
     "execution_count": 94,
     "metadata": {},
     "output_type": "execute_result"
    }
   ],
   "source": [
    "C_aprox =  np.matmul(sqrtm(D_k), Vt_k) \n",
    "C_aprox.shape"
   ]
  },
  {
   "cell_type": "code",
   "execution_count": 95,
   "metadata": {
    "ExecuteTime": {
     "end_time": "2021-02-14T01:25:30.492743Z",
     "start_time": "2021-02-14T01:25:30.487775Z"
    }
   },
   "outputs": [
    {
     "data": {
      "text/plain": [
       "array([[-0.75564885, -0.94258412,  0.58521029,  0.31091255, -0.34236264,\n",
       "        -0.35611411,  1.38333539],\n",
       "       [-0.10297746, -0.90731407,  0.85246082,  1.47067309,  1.04699079,\n",
       "        -1.12485339, -1.39610383],\n",
       "       [-1.24217272,  0.30602243, -1.86085653,  1.99194943, -0.40744192,\n",
       "         0.73426722, -0.04231378],\n",
       "       [ 1.26211105, -1.78859778,  0.67141623,  0.5769346 , -1.4956339 ,\n",
       "         2.14321559, -0.76142552],\n",
       "       [ 2.56020617,  2.10297879,  1.65974403,  2.70814772,  3.18903329,\n",
       "         2.25028451,  2.88919002]])"
      ]
     },
     "execution_count": 95,
     "metadata": {},
     "output_type": "execute_result"
    }
   ],
   "source": [
    "C_aprox"
   ]
  },
  {
   "cell_type": "markdown",
   "metadata": {},
   "source": [
    "## Ejercicio 3"
   ]
  },
  {
   "cell_type": "markdown",
   "metadata": {
    "ExecuteTime": {
     "end_time": "2021-01-23T01:08:37.861571Z",
     "start_time": "2021-01-23T01:08:37.853593Z"
    }
   },
   "source": [
    "Calcular el algoritmo de PageRank para el siguiente grafo:"
   ]
  },
  {
   "cell_type": "markdown",
   "metadata": {},
   "source": [
    "<img src='graph.jpg' width=30%/>"
   ]
  },
  {
   "cell_type": "code",
   "execution_count": null,
   "metadata": {},
   "outputs": [],
   "source": []
  }
 ],
 "metadata": {
  "kernelspec": {
   "display_name": "Python 3",
   "language": "python",
   "name": "python3"
  },
  "language_info": {
   "codemirror_mode": {
    "name": "ipython",
    "version": 3
   },
   "file_extension": ".py",
   "mimetype": "text/x-python",
   "name": "python",
   "nbconvert_exporter": "python",
   "pygments_lexer": "ipython3",
   "version": "3.7.6"
  },
  "toc": {
   "base_numbering": 1,
   "nav_menu": {},
   "number_sections": true,
   "sideBar": true,
   "skip_h1_title": false,
   "title_cell": "Table of Contents",
   "title_sidebar": "Contents",
   "toc_cell": false,
   "toc_position": {},
   "toc_section_display": true,
   "toc_window_display": true
  }
 },
 "nbformat": 4,
 "nbformat_minor": 4
}
