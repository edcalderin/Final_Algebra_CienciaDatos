{
 "cells": [
  {
   "cell_type": "markdown",
   "metadata": {},
   "source": [
    "# Algebra Lineal aplicada a la Ciencia de Datos"
   ]
  },
  {
   "cell_type": "markdown",
   "metadata": {},
   "source": [
    "## Librerias"
   ]
  },
  {
   "cell_type": "code",
   "execution_count": 11,
   "metadata": {
    "ExecuteTime": {
     "end_time": "2021-02-13T21:47:19.240125Z",
     "start_time": "2021-02-13T21:47:18.820976Z"
    }
   },
   "outputs": [],
   "source": [
    "import numpy as np\n",
    "import matplotlib.pyplot as plt\n",
    "import pandas as pd\n",
    "from sklearn.decomposition import PCA\n",
    "from scipy.sparse.linalg import svds\n",
    "from scipy.linalg import sqrtm"
   ]
  },
  {
   "cell_type": "markdown",
   "metadata": {},
   "source": [
    "## Ejercicio 1"
   ]
  },
  {
   "cell_type": "markdown",
   "metadata": {},
   "source": [
    "Utilizar la siguiente tabla que explica las preferencias de restaurantes de Alfonso, Brenda, Carlos y Diana para aplicar PCA tal como lo vimos en clase y explicar los resultados"
   ]
  },
  {
   "cell_type": "markdown",
   "metadata": {},
   "source": [
    "|         | Italiana | Francesa | Mexicana | Japonesa |\n",
    "|---------|----------|----------|----------|----------|\n",
    "| Alfonso |    10    |     1    |     2    |     7    |\n",
    "| Brenda  |     7    |     2    |     1    |    10    |\n",
    "| Carlos  |     2    |     9    |     7    |     3    |\n",
    "| Diana   |     3    |     6    |    10    |     2    |"
   ]
  },
  {
   "cell_type": "code",
   "execution_count": 2,
   "metadata": {
    "ExecuteTime": {
     "end_time": "2021-02-13T21:46:54.357618Z",
     "start_time": "2021-02-13T21:46:54.352620Z"
    }
   },
   "outputs": [],
   "source": [
    "X = np.array([\n",
    "    [10, 1, 2,  7],\n",
    "    [7,  2, 1, 10],\n",
    "    [2,  9, 7,  3],\n",
    "    [3,  6, 10, 2]\n",
    "])"
   ]
  },
  {
   "cell_type": "code",
   "execution_count": 3,
   "metadata": {
    "ExecuteTime": {
     "end_time": "2021-02-13T21:46:54.404653Z",
     "start_time": "2021-02-13T21:46:54.360618Z"
    }
   },
   "outputs": [
    {
     "data": {
      "text/plain": [
       "array([[ 10.9375,   8.5625, -10.3125,  -9.1875],\n",
       "       [  8.5625,  11.1875,  -8.9375, -10.8125],\n",
       "       [-10.3125,  -8.9375,  10.6875,   8.5625],\n",
       "       [ -9.1875, -10.8125,   8.5625,  11.4375]])"
      ]
     },
     "execution_count": 3,
     "metadata": {},
     "output_type": "execute_result"
    }
   ],
   "source": [
    "standarized = X - np.mean(X, axis=0)\n",
    "cov = standarized @ standarized.T/X.shape[0]\n",
    "cov"
   ]
  },
  {
   "cell_type": "code",
   "execution_count": 4,
   "metadata": {
    "ExecuteTime": {
     "end_time": "2021-02-13T21:46:54.435621Z",
     "start_time": "2021-02-13T21:46:54.407621Z"
    }
   },
   "outputs": [],
   "source": [
    "eig_val, eig_vec = np.linalg.eig(cov)"
   ]
  },
  {
   "cell_type": "code",
   "execution_count": 5,
   "metadata": {
    "ExecuteTime": {
     "end_time": "2021-02-13T21:46:54.456621Z",
     "start_time": "2021-02-13T21:46:54.438618Z"
    }
   },
   "outputs": [
    {
     "name": "stdout",
     "output_type": "stream",
     "text": [
      "Eigen valores: [3.92587241e+01 3.99291342e+00 7.98286130e-16 9.98362518e-01]\n",
      "Eigen vectores: [[ 0.49611631  0.50762718  0.5        -0.49616857]\n",
      " [ 0.50376181 -0.49345547  0.5         0.50271835]\n",
      " [-0.48958265 -0.50644341  0.5        -0.50380939]\n",
      " [-0.51029547  0.49227169  0.5         0.4972596 ]]\n"
     ]
    }
   ],
   "source": [
    "print('Eigen valores:', eig_val)\n",
    "print('Eigen vectores:', eig_vec)"
   ]
  },
  {
   "cell_type": "code",
   "execution_count": 6,
   "metadata": {
    "ExecuteTime": {
     "end_time": "2021-02-13T21:46:54.472653Z",
     "start_time": "2021-02-13T21:46:54.458624Z"
    }
   },
   "outputs": [
    {
     "name": "stdout",
     "output_type": "stream",
     "text": [
      "[[ 0.91369133  7.01583139]\n",
      " [-1.11219956  6.98275286]\n",
      " [ 0.56812395 -5.49413361]\n",
      " [-1.40549766 -5.51774196]]\n"
     ]
    }
   ],
   "source": [
    "idx = np.argsort(eig_val)[::-1]\n",
    "eig_val = eig_val[idx]\n",
    "eig_vec = eig_vec[:, idx]\n",
    "pca = np.dot(X, eig_vec[:, range(2)])\n",
    "print(pca)"
   ]
  },
  {
   "cell_type": "markdown",
   "metadata": {},
   "source": [
    "Los componentes obtenidos reflejas los restaurantes con votaciones similares o aquellos que estan correlacionados. Los restaurantes de comida Italiana y Japonesa, y Francesa y Mexicana son ejemplos de restaurantes con una valoracion parecida. "
   ]
  },
  {
   "cell_type": "markdown",
   "metadata": {},
   "source": [
    "## Ejercicio 2"
   ]
  },
  {
   "cell_type": "markdown",
   "metadata": {},
   "source": [
    "Calcular el rango de las siguientes matrices asi como una aproximacion de grado 2, 3 y 5 respectivamente."
   ]
  },
  {
   "cell_type": "markdown",
   "metadata": {},
   "source": [
    "\\begin{equation}\n",
    "    \\begin{bmatrix} 4 & 5 \\\\ 7 & 2 \\end{bmatrix}\n",
    "    \\begin{bmatrix} \n",
    "    3 & 3 & 5 & 1 & 5  \\\\ \n",
    "    5 & 4 & 3 & 5 & 1  \\\\ \n",
    "    2 & 7 & 10 & 8 & 9 \\\\ \n",
    "    5 & 3 & 6 & 10 & 8 \\\\ \n",
    "    9 & 5 & 9 & 6 & 10 \\\\\n",
    "    10 & 10 & 8 & 4 & 6\n",
    "    \\end{bmatrix}\n",
    "    \\begin{bmatrix} \n",
    "    5 & 1 & 3 & 9 & 3 & 10 & 3    \\\\ \n",
    "    5 & 4 & 1 & 7 & 8 & 3 & 2     \\\\\n",
    "    3 & 7 & 2 & 1 & 9 & 2 & 8     \\\\\n",
    "    2 & 5 & 3 & 10 & 10 & 1 & 7   \\\\\n",
    "    10 & 3 & 5 & 8 & 7 & 10 & 10  \\\\\n",
    "    9 & 2 & 10 & 3 & 8 & 3 & 4    \\\\\n",
    "    5 & 10 & 3 & 7 & 9 & 4 & 9    \\\\\n",
    "    8 & 7 & 4 & 6 & 7 & 8 & 9     \\\\\n",
    "    \\end{bmatrix}\n",
    "\\end{equation}\n"
   ]
  },
  {
   "cell_type": "code",
   "execution_count": 7,
   "metadata": {
    "ExecuteTime": {
     "end_time": "2021-02-13T21:46:54.483623Z",
     "start_time": "2021-02-13T21:46:54.474625Z"
    }
   },
   "outputs": [],
   "source": [
    "def get_range(X):\n",
    "    U, D, V = np.linalg.svd(X)\n",
    "    non_zero = D[np.nonzero(D)]\n",
    "    return len(non_zero)"
   ]
  },
  {
   "cell_type": "code",
   "execution_count": 24,
   "metadata": {
    "ExecuteTime": {
     "end_time": "2021-02-13T22:05:54.550630Z",
     "start_time": "2021-02-13T22:05:54.545628Z"
    }
   },
   "outputs": [],
   "source": [
    "A = np.array([[4, 5], [7, 2]])"
   ]
  },
  {
   "cell_type": "code",
   "execution_count": 25,
   "metadata": {
    "ExecuteTime": {
     "end_time": "2021-02-13T22:05:54.773956Z",
     "start_time": "2021-02-13T22:05:54.768955Z"
    }
   },
   "outputs": [
    {
     "name": "stdout",
     "output_type": "stream",
     "text": [
      "El rango de A es 2\n"
     ]
    }
   ],
   "source": [
    "print('El rango de A es', get_range(A))"
   ]
  },
  {
   "cell_type": "code",
   "execution_count": 28,
   "metadata": {
    "ExecuteTime": {
     "end_time": "2021-02-13T22:06:21.926549Z",
     "start_time": "2021-02-13T22:06:21.919532Z"
    }
   },
   "outputs": [],
   "source": [
    "# Convirtiendo tipo de datos de la matriz a flotante\n",
    "A = pd.DataFrame(A.astype('float'))\n",
    "U_k, sigmas_k, Vt_k = svds(A, k=1)\n",
    "D_k = np.diag(sigmas_k)"
   ]
  },
  {
   "cell_type": "code",
   "execution_count": 29,
   "metadata": {
    "ExecuteTime": {
     "end_time": "2021-02-13T22:06:43.947919Z",
     "start_time": "2021-02-13T22:06:43.940923Z"
    }
   },
   "outputs": [
    {
     "data": {
      "text/plain": [
       "((2, 1), (1, 1), (1, 2))"
      ]
     },
     "execution_count": 29,
     "metadata": {},
     "output_type": "execute_result"
    }
   ],
   "source": [
    "U_k.shape, D_k.shape, Vt_k.shape"
   ]
  },
  {
   "cell_type": "code",
   "execution_count": 30,
   "metadata": {
    "ExecuteTime": {
     "end_time": "2021-02-13T23:22:09.444727Z",
     "start_time": "2021-02-13T23:22:09.417735Z"
    }
   },
   "outputs": [
    {
     "ename": "NameError",
     "evalue": "name 'sqrtm' is not defined",
     "output_type": "error",
     "traceback": [
      "\u001b[1;31m---------------------------------------------------------------------------\u001b[0m",
      "\u001b[1;31mNameError\u001b[0m                                 Traceback (most recent call last)",
      "\u001b[1;32m<ipython-input-30-0eea9caa375c>\u001b[0m in \u001b[0;36m<module>\u001b[1;34m\u001b[0m\n\u001b[1;32m----> 1\u001b[1;33m \u001b[0mM2\u001b[0m \u001b[1;33m=\u001b[0m  \u001b[0mnp\u001b[0m\u001b[1;33m.\u001b[0m\u001b[0mmatmul\u001b[0m\u001b[1;33m(\u001b[0m\u001b[0msqrtm\u001b[0m\u001b[1;33m(\u001b[0m\u001b[0mD_k\u001b[0m\u001b[1;33m)\u001b[0m\u001b[1;33m,\u001b[0m \u001b[0mVt_k\u001b[0m\u001b[1;33m)\u001b[0m\u001b[1;33m\u001b[0m\u001b[1;33m\u001b[0m\u001b[0m\n\u001b[0m\u001b[0;32m      2\u001b[0m \u001b[0mM2\u001b[0m\u001b[1;33m.\u001b[0m\u001b[0mshape\u001b[0m\u001b[1;33m\u001b[0m\u001b[1;33m\u001b[0m\u001b[0m\n",
      "\u001b[1;31mNameError\u001b[0m: name 'sqrtm' is not defined"
     ]
    }
   ],
   "source": [
    "M2 =  np.matmul(sqrtm(D_k), Vt_k) \n",
    "M2.shape"
   ]
  },
  {
   "cell_type": "code",
   "execution_count": 12,
   "metadata": {
    "ExecuteTime": {
     "end_time": "2021-02-11T03:22:51.011713Z",
     "start_time": "2021-02-11T03:22:51.007711Z"
    }
   },
   "outputs": [],
   "source": [
    "B = np.array([[3, 3, 5, 1, 5], \n",
    "              [5, 4, 3, 5, 1],\n",
    "              [2, 7, 10, 8, 9],\n",
    "              [5, 3, 6, 10, 8],\n",
    "              [9, 5, 9, 6, 10],\n",
    "              [10, 10, 8, 4, 6]\n",
    "             ])"
   ]
  },
  {
   "cell_type": "code",
   "execution_count": 15,
   "metadata": {
    "ExecuteTime": {
     "end_time": "2021-02-13T03:27:57.019226Z",
     "start_time": "2021-02-13T03:27:57.006841Z"
    }
   },
   "outputs": [
    {
     "ename": "NameError",
     "evalue": "name 'B' is not defined",
     "output_type": "error",
     "traceback": [
      "\u001b[1;31m---------------------------------------------------------------------------\u001b[0m",
      "\u001b[1;31mNameError\u001b[0m                                 Traceback (most recent call last)",
      "\u001b[1;32m<ipython-input-15-329c41a6692b>\u001b[0m in \u001b[0;36m<module>\u001b[1;34m\u001b[0m\n\u001b[1;32m----> 1\u001b[1;33m \u001b[0mprint\u001b[0m\u001b[1;33m(\u001b[0m\u001b[1;34m'El rango de B es'\u001b[0m\u001b[1;33m,\u001b[0m \u001b[0mget_range\u001b[0m\u001b[1;33m(\u001b[0m\u001b[0mB\u001b[0m\u001b[1;33m)\u001b[0m\u001b[1;33m)\u001b[0m\u001b[1;33m\u001b[0m\u001b[1;33m\u001b[0m\u001b[0m\n\u001b[0m",
      "\u001b[1;31mNameError\u001b[0m: name 'B' is not defined"
     ]
    }
   ],
   "source": [
    "print('El rango de B es', get_range(B))"
   ]
  },
  {
   "cell_type": "code",
   "execution_count": 26,
   "metadata": {
    "ExecuteTime": {
     "end_time": "2021-02-11T05:24:12.304760Z",
     "start_time": "2021-02-11T05:24:12.284761Z"
    }
   },
   "outputs": [
    {
     "ename": "ValueError",
     "evalue": "matrix type must be 'f', 'd', 'F', or 'D'",
     "output_type": "error",
     "traceback": [
      "\u001b[1;31m---------------------------------------------------------------------------\u001b[0m",
      "\u001b[1;31mValueError\u001b[0m                                Traceback (most recent call last)",
      "\u001b[1;32m<ipython-input-26-f1bb2af4e3a6>\u001b[0m in \u001b[0;36m<module>\u001b[1;34m\u001b[0m\n\u001b[1;32m----> 1\u001b[1;33m \u001b[0mU_k\u001b[0m\u001b[1;33m,\u001b[0m \u001b[0msigmas_k\u001b[0m\u001b[1;33m,\u001b[0m \u001b[0mVt_k\u001b[0m \u001b[1;33m=\u001b[0m \u001b[0msvds\u001b[0m\u001b[1;33m(\u001b[0m\u001b[0mB\u001b[0m\u001b[1;33m,\u001b[0m \u001b[0mk\u001b[0m\u001b[1;33m=\u001b[0m\u001b[1;36m3\u001b[0m\u001b[1;33m)\u001b[0m\u001b[1;33m\u001b[0m\u001b[1;33m\u001b[0m\u001b[0m\n\u001b[0m\u001b[0;32m      2\u001b[0m \u001b[0mD_k\u001b[0m \u001b[1;33m=\u001b[0m \u001b[0mnp\u001b[0m\u001b[1;33m.\u001b[0m\u001b[0mdiag\u001b[0m\u001b[1;33m(\u001b[0m\u001b[0msigmas_k\u001b[0m\u001b[1;33m)\u001b[0m\u001b[1;33m\u001b[0m\u001b[1;33m\u001b[0m\u001b[0m\n",
      "\u001b[1;32m~\\anaconda3\\lib\\site-packages\\scipy\\sparse\\linalg\\eigen\\arpack\\arpack.py\u001b[0m in \u001b[0;36msvds\u001b[1;34m(A, k, ncv, tol, which, v0, maxiter, return_singular_vectors, solver)\u001b[0m\n\u001b[0;32m   1865\u001b[0m     \u001b[1;32melif\u001b[0m \u001b[0msolver\u001b[0m \u001b[1;33m==\u001b[0m \u001b[1;34m'arpack'\u001b[0m \u001b[1;32mor\u001b[0m \u001b[0msolver\u001b[0m \u001b[1;32mis\u001b[0m \u001b[1;32mNone\u001b[0m\u001b[1;33m:\u001b[0m\u001b[1;33m\u001b[0m\u001b[1;33m\u001b[0m\u001b[0m\n\u001b[0;32m   1866\u001b[0m         eigvals, eigvec = eigsh(XH_X, k=k, tol=tol ** 2, maxiter=maxiter,\n\u001b[1;32m-> 1867\u001b[1;33m                                 ncv=ncv, which=which, v0=v0)\n\u001b[0m\u001b[0;32m   1868\u001b[0m \u001b[1;33m\u001b[0m\u001b[0m\n\u001b[0;32m   1869\u001b[0m     \u001b[1;32melse\u001b[0m\u001b[1;33m:\u001b[0m\u001b[1;33m\u001b[0m\u001b[1;33m\u001b[0m\u001b[0m\n",
      "\u001b[1;32m~\\anaconda3\\lib\\site-packages\\scipy\\sparse\\linalg\\eigen\\arpack\\arpack.py\u001b[0m in \u001b[0;36meigsh\u001b[1;34m(A, k, M, sigma, which, v0, ncv, maxiter, tol, return_eigenvectors, Minv, OPinv, mode)\u001b[0m\n\u001b[0;32m   1681\u001b[0m     params = _SymmetricArpackParams(n, k, A.dtype.char, matvec, mode,\n\u001b[0;32m   1682\u001b[0m                                     \u001b[0mM_matvec\u001b[0m\u001b[1;33m,\u001b[0m \u001b[0mMinv_matvec\u001b[0m\u001b[1;33m,\u001b[0m \u001b[0msigma\u001b[0m\u001b[1;33m,\u001b[0m\u001b[1;33m\u001b[0m\u001b[1;33m\u001b[0m\u001b[0m\n\u001b[1;32m-> 1683\u001b[1;33m                                     ncv, v0, maxiter, which, tol)\n\u001b[0m\u001b[0;32m   1684\u001b[0m \u001b[1;33m\u001b[0m\u001b[0m\n\u001b[0;32m   1685\u001b[0m     \u001b[1;32mwith\u001b[0m \u001b[0m_ARPACK_LOCK\u001b[0m\u001b[1;33m:\u001b[0m\u001b[1;33m\u001b[0m\u001b[1;33m\u001b[0m\u001b[0m\n",
      "\u001b[1;32m~\\anaconda3\\lib\\site-packages\\scipy\\sparse\\linalg\\eigen\\arpack\\arpack.py\u001b[0m in \u001b[0;36m__init__\u001b[1;34m(self, n, k, tp, matvec, mode, M_matvec, Minv_matvec, sigma, ncv, v0, maxiter, which, tol)\u001b[0m\n\u001b[0;32m    512\u001b[0m \u001b[1;33m\u001b[0m\u001b[0m\n\u001b[0;32m    513\u001b[0m         _ArpackParams.__init__(self, n, k, tp, mode, sigma,\n\u001b[1;32m--> 514\u001b[1;33m                                ncv, v0, maxiter, which, tol)\n\u001b[0m\u001b[0;32m    515\u001b[0m \u001b[1;33m\u001b[0m\u001b[0m\n\u001b[0;32m    516\u001b[0m         \u001b[1;32mif\u001b[0m \u001b[0mself\u001b[0m\u001b[1;33m.\u001b[0m\u001b[0mncv\u001b[0m \u001b[1;33m>\u001b[0m \u001b[0mn\u001b[0m \u001b[1;32mor\u001b[0m \u001b[0mself\u001b[0m\u001b[1;33m.\u001b[0m\u001b[0mncv\u001b[0m \u001b[1;33m<=\u001b[0m \u001b[0mk\u001b[0m\u001b[1;33m:\u001b[0m\u001b[1;33m\u001b[0m\u001b[1;33m\u001b[0m\u001b[0m\n",
      "\u001b[1;32m~\\anaconda3\\lib\\site-packages\\scipy\\sparse\\linalg\\eigen\\arpack\\arpack.py\u001b[0m in \u001b[0;36m__init__\u001b[1;34m(self, n, k, tp, mode, sigma, ncv, v0, maxiter, which, tol)\u001b[0m\n\u001b[0;32m    320\u001b[0m \u001b[1;33m\u001b[0m\u001b[0m\n\u001b[0;32m    321\u001b[0m         \u001b[1;32mif\u001b[0m \u001b[0mtp\u001b[0m \u001b[1;32mnot\u001b[0m \u001b[1;32min\u001b[0m \u001b[1;34m'fdFD'\u001b[0m\u001b[1;33m:\u001b[0m\u001b[1;33m\u001b[0m\u001b[1;33m\u001b[0m\u001b[0m\n\u001b[1;32m--> 322\u001b[1;33m             \u001b[1;32mraise\u001b[0m \u001b[0mValueError\u001b[0m\u001b[1;33m(\u001b[0m\u001b[1;34m\"matrix type must be 'f', 'd', 'F', or 'D'\"\u001b[0m\u001b[1;33m)\u001b[0m\u001b[1;33m\u001b[0m\u001b[1;33m\u001b[0m\u001b[0m\n\u001b[0m\u001b[0;32m    323\u001b[0m \u001b[1;33m\u001b[0m\u001b[0m\n\u001b[0;32m    324\u001b[0m         \u001b[1;32mif\u001b[0m \u001b[0mv0\u001b[0m \u001b[1;32mis\u001b[0m \u001b[1;32mnot\u001b[0m \u001b[1;32mNone\u001b[0m\u001b[1;33m:\u001b[0m\u001b[1;33m\u001b[0m\u001b[1;33m\u001b[0m\u001b[0m\n",
      "\u001b[1;31mValueError\u001b[0m: matrix type must be 'f', 'd', 'F', or 'D'"
     ]
    }
   ],
   "source": [
    "U_k, sigmas_k, Vt_k = svds(B, k=3)\n",
    "D_k = np.diag(sigmas_k)"
   ]
  },
  {
   "cell_type": "code",
   "execution_count": 7,
   "metadata": {
    "ExecuteTime": {
     "end_time": "2021-02-11T03:15:50.668866Z",
     "start_time": "2021-02-11T03:15:50.661873Z"
    }
   },
   "outputs": [],
   "source": [
    "C = np.array([\n",
    "        [5,  1,  3,  9,  3,  10, 3 ],\n",
    "        [5,  4,  1,  7,  8,  3,  2 ],\n",
    "        [3,  7,  2,  1,  9,  2,  8 ],\n",
    "        [2,  5,  3,  10, 10, 1,  7 ],\n",
    "        [10, 3,  5,  8,  7,  10, 10],\n",
    "        [9,  2,  10, 3,  8,  3,  4 ],\n",
    "        [5,  10, 3,  7,  9,  4,  9 ],\n",
    "        [8,  7,  4,  6,  7,  8,  9 ]\n",
    "])"
   ]
  },
  {
   "cell_type": "code",
   "execution_count": 16,
   "metadata": {
    "ExecuteTime": {
     "end_time": "2021-02-13T03:28:10.009274Z",
     "start_time": "2021-02-13T03:28:09.994157Z"
    }
   },
   "outputs": [
    {
     "ename": "NameError",
     "evalue": "name 'C' is not defined",
     "output_type": "error",
     "traceback": [
      "\u001b[1;31m---------------------------------------------------------------------------\u001b[0m",
      "\u001b[1;31mNameError\u001b[0m                                 Traceback (most recent call last)",
      "\u001b[1;32m<ipython-input-16-d4ebd182a826>\u001b[0m in \u001b[0;36m<module>\u001b[1;34m\u001b[0m\n\u001b[1;32m----> 1\u001b[1;33m \u001b[0mprint\u001b[0m\u001b[1;33m(\u001b[0m\u001b[1;34m'El rango de C es'\u001b[0m\u001b[1;33m,\u001b[0m \u001b[0mget_range\u001b[0m\u001b[1;33m(\u001b[0m\u001b[0mC\u001b[0m\u001b[1;33m)\u001b[0m\u001b[1;33m)\u001b[0m\u001b[1;33m\u001b[0m\u001b[1;33m\u001b[0m\u001b[0m\n\u001b[0m",
      "\u001b[1;31mNameError\u001b[0m: name 'C' is not defined"
     ]
    }
   ],
   "source": [
    "print('El rango de C es', get_range(C))"
   ]
  },
  {
   "cell_type": "code",
   "execution_count": 11,
   "metadata": {
    "ExecuteTime": {
     "end_time": "2021-02-11T03:22:41.418869Z",
     "start_time": "2021-02-11T03:22:41.408871Z"
    }
   },
   "outputs": [
    {
     "data": {
      "text/plain": [
       "array([44.64712242, 12.98572227,  9.77424009,  8.03398273,  4.05625394,\n",
       "        2.98608966,  2.13422141])"
      ]
     },
     "execution_count": 11,
     "metadata": {},
     "output_type": "execute_result"
    }
   ],
   "source": [
    "U, D, V = np.linalg.svd(C)\n",
    "D"
   ]
  },
  {
   "cell_type": "markdown",
   "metadata": {},
   "source": [
    "## Ejercicio 3"
   ]
  },
  {
   "cell_type": "markdown",
   "metadata": {
    "ExecuteTime": {
     "end_time": "2021-01-23T01:08:37.861571Z",
     "start_time": "2021-01-23T01:08:37.853593Z"
    }
   },
   "source": [
    "Calcular el algoritmo de PageRank para el siguiente grafo:"
   ]
  },
  {
   "cell_type": "markdown",
   "metadata": {},
   "source": [
    "<img src='graph.jpg' width=30%/>"
   ]
  },
  {
   "cell_type": "code",
   "execution_count": null,
   "metadata": {},
   "outputs": [],
   "source": []
  }
 ],
 "metadata": {
  "kernelspec": {
   "display_name": "Python 3",
   "language": "python",
   "name": "python3"
  },
  "language_info": {
   "codemirror_mode": {
    "name": "ipython",
    "version": 3
   },
   "file_extension": ".py",
   "mimetype": "text/x-python",
   "name": "python",
   "nbconvert_exporter": "python",
   "pygments_lexer": "ipython3",
   "version": "3.7.6"
  },
  "toc": {
   "base_numbering": 1,
   "nav_menu": {},
   "number_sections": true,
   "sideBar": true,
   "skip_h1_title": false,
   "title_cell": "Table of Contents",
   "title_sidebar": "Contents",
   "toc_cell": false,
   "toc_position": {},
   "toc_section_display": true,
   "toc_window_display": true
  }
 },
 "nbformat": 4,
 "nbformat_minor": 4
}
